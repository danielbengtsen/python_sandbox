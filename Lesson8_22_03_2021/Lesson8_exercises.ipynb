{
 "cells": [
  {
   "cell_type": "markdown",
   "metadata": {},
   "source": [
    "## Class exercise Select\n",
    "1. Use the ex1 table on the mysql_notebooks server\n",
    "2. Select only those customers with less than `$3000` on the account"
   ]
  },
  {
   "cell_type": "code",
   "execution_count": 5,
   "metadata": {},
   "outputs": [
    {
     "data": {
      "text/plain": [
       "[(1, 'Freddy M', 'Hallway 22, 34322 moral county', 1000.0, datetime.datetime(2002, 2, 3, 23, 0)),\n",
       " (2, 'Janice F', 'Hallway 24, 34322 moral county', 2000.0, datetime.datetime(2001, 2, 4, 23, 0)),\n",
       " (4, 'Freddy MÃ¥lÃ¸v', 'Hallway 22, 34322 moral county', 1000.0, datetime.datetime(2002, 2, 3, 23, 0))]"
      ]
     },
     "execution_count": 5,
     "metadata": {},
     "output_type": "execute_result"
    }
   ],
   "source": [
    "import sqlalchemy as s_a\n",
    "\n",
    "SQLALCHEMY_DATABASE_URL = \"mysql+mysqlconnector://root:root@db/db\"\n",
    "engine = s_a.create_engine(SQLALCHEMY_DATABASE_URL)\n",
    "connection = engine.connect()\n",
    "query = 'select * from ex1 where account < 3000'\n",
    "ResultProxy = connection.execute(query)\n",
    "ResultSet = ResultProxy.fetchall()\n",
    "ResultSet[:]"
   ]
  },
  {
   "cell_type": "markdown",
   "metadata": {},
   "source": [
    "## Class exercise\n",
    "create a pandas dataframe from below csv and turn it into a mysql table called: 'cars'\n",
    "\n",
    "```csv\n",
    "make,model,year,price\n",
    "vw,up,2018,123000\n",
    "audi,a6,2011,85000\n",
    "citroen,c3,2019,143000\n",
    "```"
   ]
  },
  {
   "cell_type": "code",
   "execution_count": 17,
   "metadata": {},
   "outputs": [
    {
     "name": "stdout",
     "output_type": "stream",
     "text": [
      "Database created!\n"
     ]
    }
   ],
   "source": [
    "import pandas as pd\n",
    "from sqlalchemy import create_engine\n",
    "\n",
    "data_frame = pd.read_csv('data/cars.csv', delimiter=\",\")\n",
    "\n",
    "conn = \"mysql+mysqlconnector://root:root@db/db\"\n",
    "engine = create_engine(conn)\n",
    "data_frame = data_frame.applymap(str)\n",
    "\n",
    "try:\n",
    "    data_frame.to_sql('cars', con=engine, if_exists='replace', index=True, index_label='id', method='multi')\n",
    "    print(\"Database created!\")\n",
    "except:\n",
    "    print(\"Sorry, couldn't create SQL database.\")"
   ]
  },
  {
   "cell_type": "markdown",
   "metadata": {},
   "source": [
    "## Exercise\n",
    "1. Create a restful webservice that can respond to the following requests:  \n",
    "\n",
    "|Method|URL|Example|Response|Description|\n",
    "|--|--|--|--|--|\n",
    "|GET|/datagenerator/api/person/{no}|/datagenerator/api/person/100|[{\"id\":1,\"name\":\"Holger\"},{},{}]|Returns 100 person objects|\n",
    "|POST|datagenerator/api/person|POST json: {\"name\":\"Henrietta\"}|{\"id\":101,\"name\":\"Henrietta\"}|Adds a new Person object to the list of persons on the server|\n",
    "\n",
    "2. Use a Mysql table to store and retrieve Person objects"
   ]
  },
  {
   "cell_type": "code",
   "execution_count": null,
   "metadata": {},
   "outputs": [],
   "source": [
    "# Look in the \"Flask\" folder in the file: \"flask_app_exercise.py\""
   ]
  }
 ],
 "metadata": {
  "kernelspec": {
   "display_name": "Python 3",
   "language": "python",
   "name": "python3"
  },
  "language_info": {
   "codemirror_mode": {
    "name": "ipython",
    "version": 3
   },
   "file_extension": ".py",
   "mimetype": "text/x-python",
   "name": "python",
   "nbconvert_exporter": "python",
   "pygments_lexer": "ipython3",
   "version": "3.7.6"
  }
 },
 "nbformat": 4,
 "nbformat_minor": 4
}
