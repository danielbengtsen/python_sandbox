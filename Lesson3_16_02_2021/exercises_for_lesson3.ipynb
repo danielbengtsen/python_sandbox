{
 "cells": [
  {
   "cell_type": "markdown",
   "metadata": {},
   "source": [
    "# Exercises\n",
    "\n",
    "  1. Create a Python module, which consists of a class TextContainer. The class shall implement methods for computing statistics on texts.\n",
    "    * Counting the amount of words used in a text.\n",
    "    * Counting the amount of chars used in a text.\n",
    "    * Counting the amount of letters, where letters are all ASCII letter characters, see \n",
    "    ```python\n",
    "    import string\n",
    "    string.ascii_letters  # returns 'abcdefghijklmnopqrstuvwxyzABCDEFGHIJKLMNOPQRSTUVWXYZ'\n",
    "    ```\n",
    "    * Remove all punctuation characters, see\n",
    "    ```python\n",
    "    import string\n",
    "    string.punctuation  # returns '!\"#$%&\\'()*+,-./:;<=>?@[\\\\]^_`{|}~'\n",
    "    ```"
   ]
  },
  {
   "cell_type": "code",
   "execution_count": 1,
   "metadata": {},
   "outputs": [
    {
     "name": "stdout",
     "output_type": "stream",
     "text": [
      "Words: 10\n",
      "Chars: 46\n",
      "Letters: 35\n",
      "Without punctuation: \"This is some example text I hope you like it\"\n"
     ]
    }
   ],
   "source": [
    "import string\n",
    "\n",
    "class TextContainer():\n",
    "    def __init__(self, text):\n",
    "        self.text = text\n",
    "    \n",
    "    def count_words(self):\n",
    "        result = 0\n",
    "        splittet_text = self.text.split()\n",
    "        for element in splittet_text:\n",
    "            \"\"\"if element.isalpha():\n",
    "                result += 1\"\"\"\n",
    "            result += 1\n",
    "        return result\n",
    "    \n",
    "    def count_chars(self):\n",
    "        result = 0\n",
    "        for char in self.text:\n",
    "            result += 1\n",
    "        return result\n",
    "    \n",
    "    \n",
    "    def count_letters(self):\n",
    "        result = 0\n",
    "        for char in self.text:\n",
    "            if char in string.ascii_letters:\n",
    "                result += 1\n",
    "        return result\n",
    "    \n",
    "    def remove_punctuation(self):\n",
    "        result = \"\"\n",
    "        for char in self.text:\n",
    "            if char not in string.punctuation:\n",
    "                result += char\n",
    "        return result\n",
    "\n",
    "\n",
    "text = \"This is some example text, I hope you like it.\"\n",
    "text_container = TextContainer(text)\n",
    "print(\"Words:\", text_container.count_words())\n",
    "print(\"Chars:\", text_container.count_chars())\n",
    "print(\"Letters:\", text_container.count_letters())\n",
    "print(\"Without punctuation:\", \"\\\"\" + text_container.remove_punctuation() + \"\\\"\")"
   ]
  },
  {
   "cell_type": "markdown",
   "metadata": {},
   "source": [
    "## Exercise\n",
    "1. Create a class called: Person with a constructor that takes a string: name.\n",
    "2. Check if name contains only letters and each new word starts with a capital letter. If this is not the case raise an InvalidArgumentException (your own exception here)\n",
    "\n",
    "3. Test your new class by making 2 instances (one with a name, that follows the rules and another that violates them)"
   ]
  },
  {
   "cell_type": "code",
   "execution_count": 2,
   "metadata": {},
   "outputs": [
    {
     "name": "stdout",
     "output_type": "stream",
     "text": [
      "Name \"Bob\" is valid!\n"
     ]
    },
    {
     "ename": "InvalidArgumentException",
     "evalue": "The given name \"john\" is not valid!",
     "output_type": "error",
     "traceback": [
      "\u001b[0;31m---------------------------------------------------------------------------\u001b[0m",
      "\u001b[0;31mInvalidArgumentException\u001b[0m                  Traceback (most recent call last)",
      "\u001b[0;32m<ipython-input-2-adcb385a588f>\u001b[0m in \u001b[0;36m<module>\u001b[0;34m\u001b[0m\n\u001b[1;32m     17\u001b[0m \u001b[0;34m\u001b[0m\u001b[0m\n\u001b[1;32m     18\u001b[0m \u001b[0mprint\u001b[0m\u001b[0;34m(\u001b[0m\u001b[0ma_person_2\u001b[0m\u001b[0;34m.\u001b[0m\u001b[0mvalidate_name\u001b[0m\u001b[0;34m(\u001b[0m\u001b[0;34m)\u001b[0m\u001b[0;34m)\u001b[0m\u001b[0;34m\u001b[0m\u001b[0;34m\u001b[0m\u001b[0m\n\u001b[0;32m---> 19\u001b[0;31m \u001b[0ma_person\u001b[0m\u001b[0;34m.\u001b[0m\u001b[0mvalidate_name\u001b[0m\u001b[0;34m(\u001b[0m\u001b[0;34m)\u001b[0m\u001b[0;34m\u001b[0m\u001b[0;34m\u001b[0m\u001b[0m\n\u001b[0m",
      "\u001b[0;32m<ipython-input-2-adcb385a588f>\u001b[0m in \u001b[0;36mvalidate_name\u001b[0;34m(self)\u001b[0m\n\u001b[1;32m     11\u001b[0m             \u001b[0;32mreturn\u001b[0m \u001b[0;34m\"Name \\\"\"\u001b[0m \u001b[0;34m+\u001b[0m \u001b[0mname\u001b[0m \u001b[0;34m+\u001b[0m \u001b[0;34m\"\\\" is valid!\"\u001b[0m\u001b[0;34m\u001b[0m\u001b[0;34m\u001b[0m\u001b[0m\n\u001b[1;32m     12\u001b[0m         \u001b[0;32melse\u001b[0m\u001b[0;34m:\u001b[0m\u001b[0;34m\u001b[0m\u001b[0;34m\u001b[0m\u001b[0m\n\u001b[0;32m---> 13\u001b[0;31m             \u001b[0;32mraise\u001b[0m \u001b[0mInvalidArgumentException\u001b[0m\u001b[0;34m(\u001b[0m\u001b[0;34m'The given name \"{}\" is not valid!'\u001b[0m\u001b[0;34m.\u001b[0m\u001b[0mformat\u001b[0m\u001b[0;34m(\u001b[0m\u001b[0mname\u001b[0m\u001b[0;34m)\u001b[0m\u001b[0;34m)\u001b[0m\u001b[0;34m\u001b[0m\u001b[0;34m\u001b[0m\u001b[0m\n\u001b[0m\u001b[1;32m     14\u001b[0m \u001b[0;34m\u001b[0m\u001b[0m\n\u001b[1;32m     15\u001b[0m \u001b[0ma_person\u001b[0m \u001b[0;34m=\u001b[0m \u001b[0mPerson\u001b[0m\u001b[0;34m(\u001b[0m\u001b[0;34m'john'\u001b[0m\u001b[0;34m)\u001b[0m\u001b[0;34m\u001b[0m\u001b[0;34m\u001b[0m\u001b[0m\n",
      "\u001b[0;31mInvalidArgumentException\u001b[0m: The given name \"john\" is not valid!"
     ]
    }
   ],
   "source": [
    "class InvalidArgumentException(Exception):\n",
    "    pass\n",
    "\n",
    "class Person():\n",
    "    def __init__(self, name):\n",
    "        self.name = name\n",
    "    \n",
    "    def validate_name(self):\n",
    "        name = self.name\n",
    "        if name.isalpha() and name[0].isupper():\n",
    "            return \"Name \\\"\" + name + \"\\\" is valid!\"\n",
    "        else:\n",
    "            raise InvalidArgumentException('The given name \"{}\" is not valid!'.format(name))\n",
    "\n",
    "a_person = Person('john')\n",
    "a_person_2 = Person('Bob')\n",
    "\n",
    "print(a_person_2.validate_name())\n",
    "a_person.validate_name()"
   ]
  },
  {
   "cell_type": "markdown",
   "metadata": {},
   "source": [
    "## Class exercise\n",
    "with the following dataset:  \n",
    "\n",
    "`student_attendance = {'day1':33, 'day2':34,'day3':29,'day4':31,'day5':28,'day6':26,'day7':30}`\n",
    "\n",
    "1. create a line graph showing attendance over time.\n",
    "**hint:** use keys() and values() method of the dictionary.  \n",
    "2. add title and labels for x and y axis."
   ]
  },
  {
   "cell_type": "code",
   "execution_count": 3,
   "metadata": {},
   "outputs": [
    {
     "data": {
      "image/png": "[encoded data removed]",
      "text/plain": [
       "<Figure size 432x288 with 1 Axes>"
      ]
     },
     "metadata": {
      "needs_background": "light"
     },
     "output_type": "display_data"
    }
   ],
   "source": [
    "import matplotlib.pyplot as graph\n",
    "\n",
    "def draw_it():\n",
    "    student_attendance = {'day1':33, 'day2':34,'day3':29,'day4':31,'day5':28,'day6':26,'day7':30}\n",
    "    x_axis = range(1, (len(list(student_attendance.keys())))+1)\n",
    "    y_axis = list(student_attendance.values())\n",
    "    graph.figure()\n",
    "    graph.plot(x_axis, y_axis)\n",
    "    \n",
    "    graph.title(\"Attendance over time\")\n",
    "    graph.xlabel(\"Day\")\n",
    "    graph.ylabel(\"Attendance\")\n",
    "    \n",
    "    \n",
    "draw_it()"
   ]
  }
 ],
 "metadata": {
  "kernelspec": {
   "display_name": "Python 3",
   "language": "python",
   "name": "python3"
  },
  "language_info": {
   "codemirror_mode": {
    "name": "ipython",
    "version": 3
   },
   "file_extension": ".py",
   "mimetype": "text/x-python",
   "name": "python",
   "nbconvert_exporter": "python",
   "pygments_lexer": "ipython3",
   "version": "3.7.6"
  }
 },
 "nbformat": 4,
 "nbformat_minor": 4
}
