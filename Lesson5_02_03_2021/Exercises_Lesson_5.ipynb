{
 "cells": [
  {
   "cell_type": "markdown",
   "metadata": {},
   "source": [
    "## Class exercise slicing dataframe\n",
    "Use this data:\n",
    "```python\n",
    "data = np.array([['','Col1','Col2','col3'],\n",
    "                ['Row1',1,2,3],\n",
    "                ['Row2',4,5,6],\n",
    "                ['Row3',7,8,9]])\n",
    "```\n",
    "1. wrap the data above in a pandas DataFrame in a way that printing the dataframe and its index and column attributes gives this result: (Hint: print(df);print(df.index);print(df.columns):     \n",
    "\n",
    "``` \n",
    "     Col1 Col2 col3  \n",
    "Row1    1    2    3\n",
    "Row2    4    5    6\n",
    "Row3    7    8    9\n",
    "\n",
    "Index(['Row1', 'Row2', 'Row3'], dtype='object')\n",
    "Index(['Col1', 'Col2', 'col3'], dtype='object')\n",
    "```\n",
    "(Hint: use the pd.DataFrame(data=, column=, index=) arguments)\n",
    "\n",
    "2. Make slices of data:\n",
    "   1. second column using column name\n",
    "   2. third column using column index (.iloc[])\n",
    "   3. slice element at third row of second column (use .iloc())"
   ]
  },
  {
   "cell_type": "code",
   "execution_count": 2,
   "metadata": {},
   "outputs": [],
   "source": [
    "#The above exercise:"
   ]
  },
  {
   "cell_type": "code",
   "execution_count": 37,
   "metadata": {},
   "outputs": [
    {
     "name": "stdout",
     "output_type": "stream",
     "text": [
      "     Col1 Col2 col3\n",
      "Row1    1    2    3\n",
      "Row2    4    5    6\n",
      "Row3    7    8    9 \n",
      "\n",
      "Index(['Row1', 'Row2', 'Row3'], dtype='object') \n",
      "\n",
      "Index(['Col1', 'Col2', 'col3'], dtype='object') \n",
      "\n",
      "--------------------------------------------------------------------------\n",
      "\n",
      "A:\n",
      "Row1    1\n",
      "Row2    4\n",
      "Row3    7\n",
      "Name: Col1, dtype: object \n",
      "\n",
      "B:\n",
      "Row1    3\n",
      "Row2    6\n",
      "Row3    9\n",
      "Name: col3, dtype: object \n",
      "\n",
      "C:\n",
      "8\n"
     ]
    }
   ],
   "source": [
    "import pandas as pd\n",
    "import numpy as np\n",
    "import matplotlib.pyplot as plt\n",
    "\n",
    "data = np.array([['','Col1','Col2','col3'],\n",
    "                ['Row1',1,2,3],\n",
    "                ['Row2',4,5,6],\n",
    "                ['Row3',7,8,9]])\n",
    "\n",
    "#Exercise 1:\n",
    "\n",
    "#print(data[1:,1:])\n",
    "#print(data[1:,0])\n",
    "#print(data[0, 1:])\n",
    "\n",
    "exercise = pd.DataFrame(data[1:,1:], index=data[1:,0], columns=data[0,1:])\n",
    "print(exercise, \"\\n\")\n",
    "print(exercise.index, \"\\n\")\n",
    "print(exercise.columns, \"\\n\")\n",
    "\n",
    "print(\"--------------------------------------------------------------------------\\n\")\n",
    "#End of exercise 1 --------------------------------------------------------------------------------\n",
    "\n",
    "\n",
    "#Exercise 2:\n",
    "\n",
    "print(\"A:\")\n",
    "print(exercise['Col1'], \"\\n\")\n",
    "\n",
    "print(\"B:\")\n",
    "print(exercise.iloc[0:,2], \"\\n\")\n",
    "\n",
    "\n",
    "print(\"C:\")\n",
    "print(exercise.iloc[2,1])\n"
   ]
  }
 ],
 "metadata": {
  "kernelspec": {
   "display_name": "Python 3",
   "language": "python",
   "name": "python3"
  },
  "language_info": {
   "codemirror_mode": {
    "name": "ipython",
    "version": 3
   },
   "file_extension": ".py",
   "mimetype": "text/x-python",
   "name": "python",
   "nbconvert_exporter": "python",
   "pygments_lexer": "ipython3",
   "version": "3.7.6"
  }
 },
 "nbformat": 4,
 "nbformat_minor": 4
}
