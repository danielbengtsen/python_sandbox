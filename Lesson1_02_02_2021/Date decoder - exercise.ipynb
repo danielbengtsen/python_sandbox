{
 "cells": [
  {
   "cell_type": "markdown",
   "metadata": {},
   "source": [
    "# Date decoder"
   ]
  },
  {
   "cell_type": "markdown",
   "metadata": {},
   "source": [
    "#### 1. A date of the form 8-MAR-85 includes the name of the month, which must be translated to a number.\n",
    "#### 2. Create a dict suitable for decoding month names to numbers.\n",
    "#### 3. use string operations to split the date into 3 items using the \"-\" character.\n",
    "#### 4. Translate the month and return a tuple.\n",
    "#### 5. In the end we have a date \"dd-MMM-yy\" format and we get a new string \"d-m-y\""
   ]
  },
  {
   "cell_type": "code",
   "execution_count": 1,
   "metadata": {},
   "outputs": [
    {
     "name": "stdout",
     "output_type": "stream",
     "text": [
      "('8', 3, '85')\n",
      "8-3-85\n"
     ]
    }
   ],
   "source": [
    "the_date = \"8-MAR-85\"\n",
    "dict_month = {\"JAN\": 1, \"FEB\": 2, \"MAR\": 3, \"APR\": 4, \"MAY\": 5, \"JUN\": 6, \"JUL\": 7, \"AUG\": 8, \"SEP\": 9, \"OCT\": 10, \"NOV\": 11, \"DEC\": 12}\n",
    "splitted_date = list(the_date.split(\"-\"))\n",
    "\n",
    "splitted_date[1] = dict_month[splitted_date[1]]\n",
    "\n",
    "date_tuple = (splitted_date[0], splitted_date[1], splitted_date[2])\n",
    "\n",
    "print(date_tuple)\n",
    "result_string = date_tuple[0] + \"-\" + str(date_tuple[1]) + \"-\" + date_tuple[2]\n",
    "print(result_string)"
   ]
  }
 ],
 "metadata": {
  "kernelspec": {
   "display_name": "Python 3",
   "language": "python",
   "name": "python3"
  },
  "language_info": {
   "codemirror_mode": {
    "name": "ipython",
    "version": 3
   },
   "file_extension": ".py",
   "mimetype": "text/x-python",
   "name": "python",
   "nbconvert_exporter": "python",
   "pygments_lexer": "ipython3",
   "version": "3.7.6"
  }
 },
 "nbformat": 4,
 "nbformat_minor": 4
}
