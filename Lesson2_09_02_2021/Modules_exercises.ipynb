{
 "cells": [
  {
   "cell_type": "code",
   "execution_count": 7,
   "metadata": {},
   "outputs": [
    {
     "name": "stdout",
     "output_type": "stream",
     "text": [
      "('/tmp/tmperzq_97g', <http.client.HTTPMessage object at 0x7f58481b5ed0>)\n"
     ]
    }
   ],
   "source": [
    "import os\n",
    "import urllib.request as req\n",
    "from urllib.parse import urlparse\n",
    "\n",
    "\n",
    "def download(url, to=None):\n",
    "    \"\"\"Download a remote file specified by a URL to a \n",
    "    local directory.\n",
    "\n",
    "    :param url: str\n",
    "        URL pointing to a remote file.\n",
    "\n",
    "    :param to: str\n",
    "        Local path, absolute or relative, with a filename \n",
    "        to the file storing the contents of the remote file.\n",
    "    \"\"\"\n",
    "\n",
    "    # TODO: Implement me!\n",
    "    # urlparse(url)\n",
    "    print(req.urlretrieve(url))\n",
    "\n",
    "\n",
    "url = 'http://data.kk.dk/dataset/76ecf368-bf2d-46a2-bcf8-adaf37662528/resource/9286af17-f74e-46c9-a428-9fb707542189/download/befkbhalderstatkode.csv'\n",
    "download(url)"
   ]
  }
 ],
 "metadata": {
  "kernelspec": {
   "display_name": "Python 3",
   "language": "python",
   "name": "python3"
  },
  "language_info": {
   "codemirror_mode": {
    "name": "ipython",
    "version": 3
   },
   "file_extension": ".py",
   "mimetype": "text/x-python",
   "name": "python",
   "nbconvert_exporter": "python",
   "pygments_lexer": "ipython3",
   "version": "3.7.6"
  }
 },
 "nbformat": 4,
 "nbformat_minor": 4
}
