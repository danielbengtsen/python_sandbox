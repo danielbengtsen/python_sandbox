{
 "cells": [
  {
   "cell_type": "markdown",
   "metadata": {},
   "source": [
    "## Exercise read and write\n",
    "1. create a function in python, that can read all names of files in a folder, when given the full path to the folder\n",
    "2. create a function, that can read all lines from a file and copy to another file only the lines, that starts with a number\n",
    "3. create a function that can read all files in folder and all subfolders and print a list of all png files including their full path name"
   ]
  },
  {
   "cell_type": "code",
   "execution_count": 1,
   "metadata": {},
   "outputs": [],
   "source": [
    "# Exercise 1:"
   ]
  },
  {
   "cell_type": "code",
   "execution_count": 13,
   "metadata": {},
   "outputs": [
    {
     "name": "stdout",
     "output_type": "stream",
     "text": [
      "['Exercise - sentence generator (loops).ipynb', 'Function exercise.ipynb', 'Modules_exercises.ipynb', 'Working_with_files_exercises.ipynb', 'import_from_sibling_folder_exercise.ipynb']\n"
     ]
    }
   ],
   "source": [
    "from os import listdir\n",
    "from os.path import isfile, join\n",
    "import pathlib\n",
    "\n",
    "current_path = pathlib.Path().absolute()\n",
    "\n",
    "def read_file_names_in_folder(path):\n",
    "    return [f for f in listdir(path) if isfile(join(path, f))]\n",
    "\n",
    "print(read_file_names_in_folder(current_path))"
   ]
  },
  {
   "cell_type": "code",
   "execution_count": 14,
   "metadata": {},
   "outputs": [],
   "source": [
    "# Exercise 2:"
   ]
  },
  {
   "cell_type": "code",
   "execution_count": 40,
   "metadata": {},
   "outputs": [
    {
     "data": {
      "text/plain": [
       "'All done!'"
      ]
     },
     "execution_count": 40,
     "metadata": {},
     "output_type": "execute_result"
    }
   ],
   "source": [
    "import sys\n",
    "import os\n",
    "sys.path.append(os.path.abspath('../my_modules'))\n",
    "import webget\n",
    "\n",
    "def read_and_copy(from_file, to_file):\n",
    "    copy_success = False\n",
    "    write_success = False\n",
    "    \n",
    "    with open(from_file) as from_file_object:\n",
    "        contents = from_file_object.readlines()\n",
    "    \n",
    "    if contents != None:\n",
    "        copy_success = True\n",
    "\n",
    "    copied_content = \"\"\n",
    "\n",
    "    for line in contents:\n",
    "        if(line[0].isnumeric()):\n",
    "            copied_content += line\n",
    "    \n",
    "    with open(to_file, 'w') as to_file_object:\n",
    "        if to_file_object.write(copied_content):\n",
    "            write_success = True\n",
    "    \n",
    "    if copy_success == True and write_success == True:\n",
    "        return 'All done!'\n",
    "    else:\n",
    "        return 'Something went wrong!'\n",
    "    \n",
    "read_and_copy('transfer_file_test.txt', 'transfer_to_file_test.txt')"
   ]
  },
  {
   "cell_type": "code",
   "execution_count": 41,
   "metadata": {},
   "outputs": [],
   "source": [
    "# Exercise 3:"
   ]
  },
  {
   "cell_type": "code",
   "execution_count": null,
   "metadata": {},
   "outputs": [],
   "source": []
  }
 ],
 "metadata": {
  "kernelspec": {
   "display_name": "Python 3",
   "language": "python",
   "name": "python3"
  },
  "language_info": {
   "codemirror_mode": {
    "name": "ipython",
    "version": 3
   },
   "file_extension": ".py",
   "mimetype": "text/x-python",
   "name": "python",
   "nbconvert_exporter": "python",
   "pygments_lexer": "ipython3",
   "version": "3.7.6"
  }
 },
 "nbformat": 4,
 "nbformat_minor": 4
}
