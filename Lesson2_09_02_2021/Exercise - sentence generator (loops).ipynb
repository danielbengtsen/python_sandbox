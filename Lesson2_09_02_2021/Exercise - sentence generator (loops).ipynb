{
 "cells": [
  {
   "cell_type": "markdown",
   "metadata": {},
   "source": [
    "1. Write a program that creates gramatically valid English sentences.\n",
    "Here, we consider a sentence to be gramatically correct when it follows the simple English grammar of the form: Article Adjective Noun Verb. That is, even the sentence *A insect fly*. is, for the moment, considered correct. use: \n",
    "\n",
    "https://www.espressoenglish.net/100-most-common-english-verbs/\n",
    "https://www.espressoenglish.net/100-common-nouns-in-english/\n",
    "https://www.espressoenglish.net/100-common-adjectives-in-english/\n",
    "\n",
    "\n",
    "2. Extend the above program to generate all possible sentences with the given words."
   ]
  },
  {
   "cell_type": "code",
   "execution_count": 1,
   "metadata": {},
   "outputs": [],
   "source": [
    "# Exercise 1:"
   ]
  },
  {
   "cell_type": "code",
   "execution_count": 42,
   "metadata": {},
   "outputs": [
    {
     "name": "stdout",
     "output_type": "stream",
     "text": [
      "An end follow happy\n"
     ]
    }
   ],
   "source": [
    "import random\n",
    "\n",
    "def validate_article(noun):\n",
    "    is_an = False\n",
    "    rules = ['a', 'e', 'i', 'o', 'u', 'y']\n",
    "    for rule in rules:\n",
    "        if(noun.startswith(rule)):\n",
    "            is_an = True\n",
    "    \n",
    "    if is_an == True:\n",
    "        return 'An'\n",
    "    else:\n",
    "        return 'A'\n",
    "\n",
    "def sentence_generator(): \n",
    "    nouns = ['time', 'year', 'people', 'way', 'day', 'man', 'thing', 'woman', 'life', 'child', 'world', 'school', 'state', 'family', 'student', 'group', 'country', 'problem', 'hand', 'part', 'place', 'case', 'week', 'company', 'system', 'program', 'question', 'work', 'government', 'number', 'night', 'point', 'home', 'water', 'room', 'mother', 'area', 'money', 'story', 'fact', 'month', 'lot', 'right', 'study', 'book', 'eye', 'job', 'word', 'business', 'issue', 'side', 'kind', 'head', 'house', 'service', 'friend', 'father', 'power', 'hour', 'game', 'line', 'end', 'member', 'law', 'car', 'city', 'community', 'name', 'president', 'team', 'minute', 'idea', 'kid', 'body', 'information', 'back', 'parent', 'face', 'others', 'level', 'office', 'door', 'health', 'person', 'art', 'war', 'history', 'party', 'result', 'change', 'morning', 'reason', 'research', 'girl', 'guy', 'moment', 'air', 'teacher', 'force', 'education']\n",
    "    verbs = ['be', 'have', 'do', 'say', 'go', 'can', 'get', 'would', 'make', 'know', 'will', 'think', 'take', 'see', 'come', 'could', 'want', 'look', 'use', 'find', 'give', 'tell', 'work', 'may', 'should', 'call', 'try', 'ask', 'need', 'feel', 'become', 'leave', 'put', 'mean', 'keep', 'let', 'begin', 'seem', 'help', 'talk', 'turn', 'start', 'might', 'show', 'hear', 'play', 'run', 'move', 'like', 'live', 'believe', 'hold', 'bring', 'happen', 'must', 'write', 'provide', 'sit', 'stand', 'lose', 'pay', 'meet', 'include', 'continue', 'set', 'learn', 'change', 'lead', 'understand', 'watch', 'follow', 'stop', 'create', 'speak', 'read', 'allow', 'add', 'spend', 'grow', 'open', 'walk', 'win', 'offer', 'remember', 'love', 'consider', 'appear', 'buy', 'wait', 'serve', 'die', 'send', 'expect', 'build', 'stay', 'fall', 'cut', 'reach', 'kill', 'remain']\n",
    "    adjectives = ['other', 'new', 'good', 'high', 'old', 'great', 'big', 'American', 'small', 'large', 'national', 'young', 'different', 'black', 'long', 'little', 'important', 'political', 'bad', 'white', 'real', 'best', 'right', 'social', 'only', 'public', 'sure', 'low', 'early', 'able', 'human', 'local', 'late', 'hard', 'major', 'better', 'economic', 'strong', 'possible', 'whole', 'free', 'military', 'true', 'federal', 'international', 'full', 'special', 'easy', 'clear', 'recent', 'certain', 'personal', 'open', 'red', 'difficult', 'available', 'likely', 'short', 'single', 'medical', 'current', 'wrong', 'private', 'past', 'foreign', 'fine', 'common', 'poor', 'natural', 'significant', 'similar', 'hot', 'dead', 'central', 'happy', 'serious', 'ready', 'simple', 'left', 'physical', 'general', 'environmental', 'financial', 'blue', 'democratic', 'dark', 'various', 'entire', 'close', 'legal', 'religious', 'cold', 'final', 'main', 'green', 'nice', 'huge', 'popular', 'traditional', 'cultural']\n",
    "    articles = ['A', 'An']\n",
    "\n",
    "    noun = random.choice(nouns)\n",
    "    verb = random.choice(verbs)\n",
    "    adjective = random.choice(adjectives)\n",
    "    article = validate_article(noun)\n",
    "    \n",
    "    return str(article + \" \" + noun + \" \" + verb + \" \" + adjective)\n",
    "\n",
    "\n",
    "print(sentence_generator())"
   ]
  },
  {
   "cell_type": "code",
   "execution_count": null,
   "metadata": {},
   "outputs": [],
   "source": [
    "# Exercise 2:"
   ]
  },
  {
   "cell_type": "code",
   "execution_count": 52,
   "metadata": {},
   "outputs": [
    {
     "name": "stdout",
     "output_type": "stream",
     "text": [
      "['A time be other', 'A time be new', 'A time be good', 'A time be high', 'A time have other', 'A time have new', 'A time have good', 'A time have high', 'A time do other', 'A time do new', 'A time do good', 'A time do high', 'A time say other', 'A time say new', 'A time say good', 'A time say high', 'An animal be other', 'An animal be new', 'An animal be good', 'An animal be high', 'An animal have other', 'An animal have new', 'An animal have good', 'An animal have high', 'An animal do other', 'An animal do new', 'An animal do good', 'An animal do high', 'An animal say other', 'An animal say new', 'An animal say good', 'An animal say high', 'A people be other', 'A people be new', 'A people be good', 'A people be high', 'A people have other', 'A people have new', 'A people have good', 'A people have high', 'A people do other', 'A people do new', 'A people do good', 'A people do high', 'A people say other', 'A people say new', 'A people say good', 'A people say high', 'An elephant be other', 'An elephant be new', 'An elephant be good', 'An elephant be high', 'An elephant have other', 'An elephant have new', 'An elephant have good', 'An elephant have high', 'An elephant do other', 'An elephant do new', 'An elephant do good', 'An elephant do high', 'An elephant say other', 'An elephant say new', 'An elephant say good', 'An elephant say high']\n"
     ]
    }
   ],
   "source": [
    "import random\n",
    "\n",
    "def validate_article(noun):\n",
    "    is_an = False\n",
    "    rules = ['a', 'e', 'i', 'o', 'u']\n",
    "    for rule in rules:\n",
    "        if(noun.startswith(rule)):\n",
    "            is_an = True\n",
    "    \n",
    "    if is_an == True:\n",
    "        return 'An'\n",
    "    else:\n",
    "        return 'A'\n",
    "\n",
    "def sentence_generator(): \n",
    "    nouns = ['time', 'animal', 'people', 'elephant']\n",
    "    verbs = ['be', 'have', 'do', 'say']\n",
    "    adjectives = ['other', 'new', 'good', 'high']\n",
    "    articles = ['A', 'An']\n",
    "    \n",
    "    return [str(validate_article(noun) + \" \" + noun + \" \" + verb + \" \" + adjective) for noun in nouns for verb in verbs for adjective in adjectives]\n",
    "\n",
    "\n",
    "print(sentence_generator()) "
   ]
  }
 ],
 "metadata": {
  "kernelspec": {
   "display_name": "Python 3",
   "language": "python",
   "name": "python3"
  },
  "language_info": {
   "codemirror_mode": {
    "name": "ipython",
    "version": 3
   },
   "file_extension": ".py",
   "mimetype": "text/x-python",
   "name": "python",
   "nbconvert_exporter": "python",
   "pygments_lexer": "ipython3",
   "version": "3.7.6"
  }
 },
 "nbformat": 4,
 "nbformat_minor": 4
}
