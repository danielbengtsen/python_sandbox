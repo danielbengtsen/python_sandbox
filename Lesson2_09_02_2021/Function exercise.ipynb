{
 "cells": [
  {
   "cell_type": "markdown",
   "metadata": {},
   "source": [
    "1. Write a function that iterates through a list and prints each value without using a loop.\n",
    "That is, write a recursive function to print the values of a list.\n",
    "\n",
    "2. Write a function that can take any number of arguments and return all arguments concatenated or summed depending on the data type"
   ]
  },
  {
   "cell_type": "code",
   "execution_count": 1,
   "metadata": {},
   "outputs": [],
   "source": [
    "# Exercise 1:"
   ]
  },
  {
   "cell_type": "code",
   "execution_count": 11,
   "metadata": {},
   "outputs": [
    {
     "name": "stdout",
     "output_type": "stream",
     "text": [
      "Jonna\n",
      "Jack\n",
      "Janni\n",
      "Jesper\n"
     ]
    }
   ],
   "source": [
    "def recursive_print(a_list, counter):\n",
    "    if(counter == len(a_list)):\n",
    "        return\n",
    "    print(a_list[counter])\n",
    "    counter += 1\n",
    "    recursive_print(a_list, counter)\n",
    "\n",
    "names = [\"Jonna\",\"Jack\",\"Janni\",\"Jesper\"]\n",
    "recursive_print(names, 0)"
   ]
  },
  {
   "cell_type": "code",
   "execution_count": 8,
   "metadata": {},
   "outputs": [],
   "source": [
    "# Exercise 2:"
   ]
  },
  {
   "cell_type": "code",
   "execution_count": 38,
   "metadata": {},
   "outputs": [
    {
     "data": {
      "text/plain": [
       "{'concatenated': \"1112['jajaja', 'nejeneje']\", 'summed': 300}"
      ]
     },
     "execution_count": 38,
     "metadata": {},
     "output_type": "execute_result"
    }
   ],
   "source": [
    "def any_data(*parameters):\n",
    "    result = {'concatenated': \"\", 'summed': 0}\n",
    "    for parameter in parameters:\n",
    "        if type(parameter) == int or type(parameter) == float:\n",
    "            result['summed'] += parameter\n",
    "        else:\n",
    "            result['concatenated'] += str(parameter)\n",
    "    return result\n",
    "\n",
    "any_data('11', 100, '12', 200, ['jajaja', 'nejeneje'])"
   ]
  }
 ],
 "metadata": {
  "kernelspec": {
   "display_name": "Python 3",
   "language": "python",
   "name": "python3"
  },
  "language_info": {
   "codemirror_mode": {
    "name": "ipython",
    "version": 3
   },
   "file_extension": ".py",
   "mimetype": "text/x-python",
   "name": "python",
   "nbconvert_exporter": "python",
   "pygments_lexer": "ipython3",
   "version": "3.7.6"
  }
 },
 "nbformat": 4,
 "nbformat_minor": 4
}
