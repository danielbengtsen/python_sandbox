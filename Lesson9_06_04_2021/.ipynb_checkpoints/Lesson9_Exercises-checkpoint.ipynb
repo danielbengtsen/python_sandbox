{
 "cells": [
  {
   "cell_type": "markdown",
   "metadata": {},
   "source": [
    "## Class exercise\n",
    "Given the below dictionarys find out where each of the 4 people find the cheapest shopping according to their needs.\n",
    "```python\n",
    "shoppers = {\n",
    "'Paula':{'Is':4,'Juice':2,'Kakao':3,'Lagkager':2},\n",
    "'Peter':{'Is':2,'Juice':5,'Kakao':0, 'Lagkager':4},\n",
    "'Pandora':{'Is':5,'Juice':3, 'Kakao':4, 'Lagkager':5},\n",
    "'Pietro':{'Is':1,'Juice':8, 'Kakao':9, 'Lagkager':1}\n",
    "}\n",
    "shop_prices = {\n",
    "    'Netto': {'Is':10.50,'Juice':2.25,'Kakao':4.50,'Lagkager':33.50},\n",
    "    'Fakta': {'Is':4.00,'Juice':4.50,'Kakao':6.25,'Lagkager':20.00}\n",
    "}\n",
    "```\n",
    "Hint: you can use pandas and Transpose to create dataframe: `pd.DataFrame(shoppers).T` to get the necessary shape of the dataframe/matrix. Also use df.to_numpy() to changes a Pandas DataFrame df into a numpy ndarray with only the numeric data\n"
   ]
  },
  {
   "cell_type": "code",
   "execution_count": 47,
   "metadata": {},
   "outputs": [
    {
     "name": "stdout",
     "output_type": "stream",
     "text": [
      "          Netto   Fakta\n",
      "Paula    127.00   83.75\n",
      "Peter    166.25  110.50\n",
      "Pandora  244.75  158.50\n",
      "Pietro   102.50  116.25\n"
     ]
    }
   ],
   "source": [
    "import pandas as pd\n",
    "import numpy as np\n",
    "\n",
    "shoppers = {\n",
    "'Paula':{'Is':4,'Juice':2,'Kakao':3,'Lagkager':2},\n",
    "'Peter':{'Is':2,'Juice':5,'Kakao':0, 'Lagkager':4},\n",
    "'Pandora':{'Is':5,'Juice':3, 'Kakao':4, 'Lagkager':5},\n",
    "'Pietro':{'Is':1,'Juice':8, 'Kakao':9, 'Lagkager':1}\n",
    "}\n",
    "\n",
    "shop_prices = {\n",
    "    'Netto': {'Is':10.50,'Juice':2.25,'Kakao':4.50,'Lagkager':33.50},\n",
    "    'Fakta': {'Is':4.00,'Juice':4.50,'Kakao':6.25,'Lagkager':20.00}\n",
    "}\n",
    "\n",
    "shoppers_df = pd.DataFrame(shoppers).T\n",
    "shop_prices_df = pd.DataFrame(shop_prices)\n",
    "\n",
    "result = shoppers_df.dot(shop_prices_df)\n",
    "print(result)"
   ]
  },
  {
   "cell_type": "markdown",
   "metadata": {},
   "source": [
    "## Exercise with linear regression\n",
    "\n",
    "* Import [data](https://scikit-learn.org/stable/datasets/index.html#diabetes-dataset) using `sklearn.datasets.load_diabetes`\n",
    "```python\n",
    "from sklearn.datasets import load_diabetes\n",
    "X = load_diabetes().data\n",
    "Y = load_diabetes().target\n",
    "```\n",
    "* Construct a `sklearn.linear_model.LinearRegression` model\n",
    "* Fit it with the data\n",
    "* What is the predicted disease progression given this input?\n",
    "```python\n",
    "[ 0.01628068, -0.04464164,  0.01750591, -0.02288496,  0.06034892,\n",
    "  0.0444058 ,  0.03023191, -0.00259226,  0.03723201, -0.0010777 ]\n",
    "```"
   ]
  },
  {
   "cell_type": "code",
   "execution_count": 57,
   "metadata": {},
   "outputs": [
    {
     "name": "stdout",
     "output_type": "stream",
     "text": [
      "0.5177494254132935\n"
     ]
    }
   ],
   "source": [
    "from sklearn.linear_model import LinearRegression\n",
    "from sklearn.datasets import load_diabetes\n",
    "X = load_diabetes().data\n",
    "Y = load_diabetes().target\n",
    "\n",
    "model = LinearRegression(normalize=True)\n",
    "model.fit(X,Y)\n",
    "print(model.score(X,Y))\n",
    "\n",
    "more_input = [ 0.01628068, -0.04464164,  0.01750591, -0.02288496,  0.06034892,\n",
    "0.0444058 ,  0.03023191, -0.00259226,  0.03723201, -0.0010777 ]\n",
    "\n"
   ]
  }
 ],
 "metadata": {
  "kernelspec": {
   "display_name": "Python 3",
   "language": "python",
   "name": "python3"
  },
  "language_info": {
   "codemirror_mode": {
    "name": "ipython",
    "version": 3
   },
   "file_extension": ".py",
   "mimetype": "text/x-python",
   "name": "python",
   "nbconvert_exporter": "python",
   "pygments_lexer": "ipython3",
   "version": "3.7.6"
  }
 },
 "nbformat": 4,
 "nbformat_minor": 4
}
