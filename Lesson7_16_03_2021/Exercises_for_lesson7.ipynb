{
 "cells": [
  {
   "cell_type": "markdown",
   "metadata": {},
   "source": [
    "# Exercise 2: Writing a Simple Web Crawler\n",
    "\n",
    "Write a simple web crawler. More precisely, a program that extracts recursively all links from web pages. The result of running the web crawler is a dictionary, were the key-value pairs correspond to outgoing links from a web page with the URL, which is stored in the key.\n",
    "\n",
    "\n",
    "In case a page returns a status code, which is not `200` we just disregard this page. See https://en.wikipedia.org/wiki/List_of_HTTP_status_codes for more detailes on the various HTTP status codes."
   ]
  },
  {
   "cell_type": "code",
   "execution_count": 36,
   "metadata": {},
   "outputs": [
    {
     "name": "stdout",
     "output_type": "stream",
     "text": [
      "Start page: {'https://www.cphbusiness.dk/': ['https://intra.cphbusiness.dk/', 'https://intra.cphbusiness.dk/', 'https://cphbusiness.mrooms.net/', 'https://selvbetjening.cphbusiness.dk/', 'https://wayf.survey-xact.dk/', 'https://europe.wiseflow.net/login/', 'https://efif-my.sharepoint.com/_layouts/15/MySite.aspx?MySiteRedirect=AllDocuments', 'https://www.cphbusiness.dk/om-cphbusiness/alumni#jobportaler', 'https://www.facebook.com/copenhagenbusinessacademy', 'https://www.linkedin.com/company/copenhagen-business-academy', 'https://twitter.com/cphbusiness', 'https://www.instagram.com/cphbusiness/']}\n",
      "Pages under start page: [{'https://intra.cphbusiness.dk/': []}, {'https://intra.cphbusiness.dk/': []}, {'https://cphbusiness.mrooms.net/': ['https://cphbusiness.mrooms.net', 'https://cphbusiness.mrooms.net/login/index.php', 'https://cphbusiness.mrooms.net/mahara/auth/xmlrpc/jump.php?hostwwwroot=https%3A%2F%2Fcphbusiness.mrooms.net&wantsurl=%2F&remoteurl=1', 'https://cphbusiness.mrooms.net/login/index.php', 'https://cphbusiness.mrooms.net/login/index.php', 'https://cphbusiness.mrooms.net/calendar/view.php?view=month&time=1615889786', 'https://cphbusiness.mrooms.net/calendar/view.php?view=day&time=1615849200', 'https://cphbusiness.mrooms.net/login/index.php?saml=off', 'https://selvbetjening.cphbusiness.dk/', 'https://outlook.office.com/', 'https://europe.wiseflow.net/login', 'https://www.linkedin.com/learning/', 'https://efif-my.sharepoint.com/_layouts/15/MySite.aspx?MySiteRedirect=AllDocuments', 'https://cphbusiness.padlet.org', 'https://cphbusiness.planetestream.com', 'https://wayf.survey-xact.dk/', 'https://cphbusiness.zoom.us', 'https://play.google.com/store/apps/details?id=com.mrooms.bbopen&hl=en_US&gl=US', 'https://apps.apple.com/us/app/open-lms/id1212149426', 'https://cphbusiness.mrooms.net/user/language.php', 'https://www.facebook.com/copenhagenbusinessacademy', 'https://www.linkedin.com/school/2465269/', 'https://www.youtube.com/user/cphbusiness', 'https://www.instagram.com/cphbusiness', 'https://cphbusiness.mrooms.net/admin/tool/dataprivacy/summary.php', 'https://www.openlms.net/open-lms-mobile-app/']}, {'https://selvbetjening.cphbusiness.dk/': []}, {'https://wayf.survey-xact.dk/': []}, {'https://europe.wiseflow.net/login/': []}, {'https://efif-my.sharepoint.com/_layouts/15/MySite.aspx?MySiteRedirect=AllDocuments': []}, {'https://www.cphbusiness.dk/om-cphbusiness/alumni#jobportaler': ['https://intra.cphbusiness.dk/', 'https://intra.cphbusiness.dk/', 'https://www.survey-xact.dk/LinkCollector?key=U5YL2VV1SP31', 'https://twitter.com/share?url=https://www.cphbusiness.dk/om-cphbusiness/alumni', 'https://www.facebook.com/sharer/sharer.php?u=https://www.cphbusiness.dk/om-cphbusiness/alumni', 'https://www.linkedin.com/shareArticle?url=https://www.cphbusiness.dk/om-cphbusiness/alumni&title=Cphbusiness+Alumni&summary=%3cp%3e%3cspan%3eVi+tilbyder+dimittender+fra+Cphbusiness+inspiration+og+konkrete+v%c3%a6rkt%c3%b8jer+til+karriereudvikling%2c+kompetenceudvikling+og+personlig+udvikling+gennem+alumne-netv%c3%a6rket+Cphbusiness+Alumni.%3c%2fspan%3e%3c%2fp%3e', 'https://www.linkedin.com/groups/6550292', 'https://www.survey-xact.dk/LinkCollector?key=U5YL2VV1SP31', 'https://www.survey-xact.dk/LinkCollector?key=U5YL2VV1SP31', 'https://www.survey-xact.dk/LinkCollector?key=U5YL2VV1SP31', 'https://confirmsubscription.com/h/r/8A957B4E06945969', 'https://cphbusiness.createsend.com/t/ViewEmail/r/385AC9E5263C1A832540EF23F30FEDED/', 'https://cphbusiness.createsend.com/t/ViewEmail/r/0E92CFAE4F72D5602540EF23F30FEDED', 'https://cphbusiness.createsend.com/t/ViewEmail/r/37B3D79932ABA96C2540EF23F30FEDED/', 'https://cphbusiness.createsend.com/t/ViewEmail/r/6968C94D2149C1622540EF23F30FEDED/', 'https://cphbusiness.createsend.com/t/ViewEmail/r/1AA78EFF94DCEE482540EF23F30FEDED/', 'https://cphbusiness.createsend.com/t/ViewEmail/r/4FCC5788904EA7A32540EF23F30FEDED/', 'https://cphbusiness.createsend.com/t/ViewEmail/r/4385088D86D004952540EF23F30FEDED/', 'https://cphbusiness.createsend.com/t/ViewEmail/r/69D4FE6EF3A0742C2540EF23F30FEDED/', 'https://cphbusiness.createsend.com/t/ViewEmail/r/414675330D0A7D502540EF23F30FEDED/', 'https://cphbusiness.createsend.com/t/ViewEmail/r/510AC188E06769992540EF23F30FEDED', 'https://cphbusiness.createsend.com/t/ViewEmail/r/4E819EFDB99C04992540EF23F30FEDED/', 'https://www.linkedin.com/groups/6550292', 'https://web.facebook.com/cphbusinessalumni/', 'https://www.instagram.com/cphbusinessalumni/', 'https://www.facebook.com/events/394740495258205/', 'https://career.cphbusiness.dk/da/', 'https://cphbusiness.hosco.com', 'https://www.nordiskjob.org/da/', 'https://www.facebook.com/cphbusinessalumni/videos/2377579365800694/?hc_ref=ARTIhPV9UVxVH94Q-G2AYgm4AjHKx3ZfHZT5rExFag2O8Jo6abjizsTN9SEwZzx4Mwk&pnref=story', 'https://youtu.be/ir2rsMLc06I', 'https://cphbusiness.mrooms.net/', 'https://selvbetjening.cphbusiness.dk/', 'https://wayf.survey-xact.dk/', 'https://europe.wiseflow.net/login/', 'https://efif-my.sharepoint.com/_layouts/15/MySite.aspx?MySiteRedirect=AllDocuments', 'https://www.cphbusiness.dk/om-cphbusiness/alumni#jobportaler', 'https://www.facebook.com/copenhagenbusinessacademy', 'https://www.linkedin.com/company/copenhagen-business-academy', 'https://twitter.com/cphbusiness', 'https://www.instagram.com/cphbusiness/']}, {'https://www.facebook.com/copenhagenbusinessacademy': ['https://www.facebook.com/', 'https://www.facebook.com/recover/initiate?lwv=110&ars=royal_blue_bar', 'https://www.facebook.com/recover/initiate?lwv=110&ars=royal_blue_bar', 'https://www.facebook.com/copenhagenbusinessacademy/likes?ref=page_internal', 'https://www.facebook.com/copenhagenbusinessacademy/likes', 'https://www.facebook.com/cphbusinessstudents/?ref=py_c', 'https://www.facebook.com/cphbusinessstudents/?ref=py_c', 'https://www.facebook.com/cphbusinessalumni/?ref=py_c', 'https://www.facebook.com/cphbusinessalumni/?ref=py_c', 'https://www.facebook.com/kea.dk/?ref=py_c', 'https://www.facebook.com/kea.dk/?ref=py_c', 'https://www.facebook.com/zealandacademy/?ref=py_c', 'https://www.facebook.com/zealandacademy/?ref=py_c', 'https://www.facebook.com/akademiaarhus/?ref=py_c', 'https://www.facebook.com/akademiaarhus/?ref=py_c', 'https://www.facebook.com/pascal.cphbusiness/?ref=py_c', 'https://www.facebook.com/pascal.cphbusiness/?ref=py_c', 'https://www.facebook.com/aaucph/?ref=py_c', 'https://www.facebook.com/aaucph/?ref=py_c', 'https://www.facebook.com/ucl.dk/?ref=py_c', 'https://www.facebook.com/ucl.dk/?ref=py_c', 'https://www.facebook.com/ucplusdansk/?ref=py_c', 'https://www.facebook.com/ucplusdansk/?ref=py_c', 'https://www.facebook.com/finans.dk/?ref=py_c', 'https://www.facebook.com/finans.dk/?ref=py_c', 'https://www.facebook.com/rucdk/?ref=py_c', 'https://www.facebook.com/rucdk/?ref=py_c', 'https://www.facebook.com/kbhprof/?ref=py_c', 'https://www.facebook.com/kbhprof/?ref=py_c', 'https://www.facebook.com/careerdenmark/?ref=py_c', 'https://www.facebook.com/careerdenmark/?ref=py_c', 'https://www.facebook.com/okonomiskinstitut/?ref=py_c', 'https://www.facebook.com/okonomiskinstitut/?ref=py_c', 'https://www.facebook.com/borsen.dk/?ref=py_c', 'https://www.facebook.com/borsen.dk/?ref=py_c', 'https://www.facebook.com/SDUniversitet/?ref=py_c', 'https://www.facebook.com/SDUniversitet/?ref=py_c', 'https://www.facebook.com/AalborgUniversitet/?ref=py_c', 'https://www.facebook.com/AalborgUniversitet/?ref=py_c', 'https://www.facebook.com/eadania/?ref=py_c', 'https://www.facebook.com/eadania/?ref=py_c', 'https://www.facebook.com/adviceas/?ref=py_c', 'https://www.facebook.com/adviceas/?ref=py_c', 'https://www.facebook.com/IBAErhvervsakademiKolding/?ref=py_c', 'https://www.facebook.com/IBAErhvervsakademiKolding/?ref=py_c', 'https://www.facebook.com/cphbusinessstudents/', 'https://www.facebook.com/cphbusinessstudents/', 'https://www.facebook.com/Cphbusiness-Nørrebro-390008121053916/', 'https://www.facebook.com/Cphbusiness-Nørrebro-390008121053916/', 'https://www.facebook.com/Laborantskolen/', 'https://www.facebook.com/Laborantskolen/', 'https://www.facebook.com/ditbt/', 'https://www.facebook.com/ditbt/', 'https://www.facebook.com/womandk/', 'https://www.facebook.com/womandk/', 'https://www.facebook.com/KarriereTanken/', 'https://www.facebook.com/KarriereTanken/', 'https://www.facebook.com/ejendomsadmin/', 'https://www.facebook.com/ejendomsadmin/', 'https://www.facebook.com/Avisen.dk/', 'https://www.facebook.com/Avisen.dk/', 'https://www.facebook.com/VICE/', 'https://www.facebook.com/VICE/', 'https://www.facebook.com/aastedaps/', 'https://www.facebook.com/aastedaps/', 'https://www.facebook.com/uug.dk/', 'https://www.facebook.com/uug.dk/', 'https://www.facebook.com/SmartLearningDK/', 'https://www.facebook.com/SmartLearningDK/', 'https://www.facebook.com/InternationalBusinessAcademy/', 'https://www.facebook.com/InternationalBusinessAcademy/', 'https://www.facebook.com/brockbook/', 'https://www.facebook.com/brockbook/', 'https://www.facebook.com/blivenbedreleder/', 'https://www.facebook.com/blivenbedreleder/', 'https://www.facebook.com/HotelogRestaurantskolen/', 'https://www.facebook.com/HotelogRestaurantskolen/', 'https://www.facebook.com/gribverdendk/', 'https://www.facebook.com/gribverdendk/', 'https://www.facebook.com/faglaerterfedt/', 'https://www.facebook.com/faglaerterfedt/', 'https://www.facebook.com/legal/terms/information_about_page_insights_data', 'https://www.facebook.com/privacy/explanation', 'https://www.facebook.com/policies?ref=pf', 'https://www.facebook.com/ad_campaign/landing.php?placement=pf_rhc&campaign_id=242449722530626&nav_source=unknown&extra_1=auto', 'https://www.facebook.com/help/568137493302217', 'https://www.facebook.com/help/cookies?ref_type=sitefooter', 'https://www.facebook.com/copenhagenbusinessacademy/?ref=nf&hc_ref=ARTSEucx1FlgZMVJIaRKBMEITWCqDrDrpPeMh7KbBO0cW9JCoXQyhF06Ejq3CSnrw3M', 'https://www.facebook.com/copenhagenbusinessacademy/?hc_ref=ARQDrchDqlP4T7-RBnyS0K5LNu2jXdlF6RrCeLF6xVLM3GLKj3kn2C0RTm2Tss8DwDs&fref=nf', 'https://l.facebook.com/l.php?u=https%3A%2F%2Fwww.cphbusiness.dk%2Fom-cphbusiness%2Fnyheder%2F2021%2F03%2Ffra-cykler-til-mercedes-og-ferrari&h=AT2V_y7J1ZC10kLQm4LtAdH0MpfV26352c8XqJBfl6EoZc9twJhrk312AA1XBIpXj9BbZrdbeeeh1pKYFwTMRAV_jPAvbT0In7GD1BZarS-NsBJwdcmw4f5mYO577bAte8V9uTj7IBywngsvDalZE2gbAbK0omWVGDo', 'https://l.facebook.com/l.php?u=https%3A%2F%2Fwww.cphbusiness.dk%2Fom-cphbusiness%2Fnyheder%2F2021%2F03%2Ffra-cykler-til-mercedes-og-ferrari&h=AT3TUWSRHkPFO0sgfKhUdVM_g0kPYuh1iU5CUyWwUKLuMxrhRbZe0oUZoyDzVSAx6EckntqCk2Sdv5reH6YZchkG-t4GmVWc9CMOkSkRgupQFx5k0Mn-99AVF6CJgnUsJwZLkr8k5pYlf4EBF1ijgOzFwz46ANs834w', 'https://l.facebook.com/l.php?u=https%3A%2F%2Fwww.cphbusiness.dk%2Fom-cphbusiness%2Fnyheder%2F2021%2F03%2Ffra-cykler-til-mercedes-og-ferrari&h=AT02J5XmSCPaJzWm1aEHKkSA29Jj--z-wTYHUzPpAkHmV9YQmvulK7uOkkWGnwg3-CSCpa3-gimTo1LS2vSeUTQxoz5ux3KmQWnARkvF7viUvhzp8KZGgyWlLz2kPMQOVHQxmYOm2ddXsUCtiJq04dEYq5NaSHjI-dCfq0LBXl6D', 'https://www.facebook.com/copenhagenbusinessacademy/?ref=nf&hc_ref=ARRUUkhHNnOA5xi0q6HaIp17PmkGc0WwrDftwIwFqnd0h2aG0WBd9Xc--X1VzpKdhss', 'https://www.facebook.com/copenhagenbusinessacademy/?hc_ref=ARRbin_rm8HOCbPo2t6omUHu_I_1wiFlfLZ41lWSsw3SV3U971JMA4QR3KuDCp2OoDs&fref=nf', 'https://www.facebook.com/copenhagenbusinessacademy/?fref=mentions', 'https://www.facebook.com/copenhagenbusinessacademy/posts']}, {'https://www.linkedin.com/company/copenhagen-business-academy': []}, {'https://twitter.com/cphbusiness': ['https://help.twitter.com/using-twitter/twitter-supported-browsers', 'https://twitter.com/tos', 'https://twitter.com/privacy', 'https://support.twitter.com/articles/20170514', 'https://legal.twitter.com/imprint', 'https://business.twitter.com/en/help/troubleshooting/how-twitter-ads-work.html']}, {'https://www.instagram.com/cphbusiness/': ['https://help.instagram.com/', 'https://about.instagram.com/blog/', 'https://about.instagram.com/about-us/careers']}]\n"
     ]
    }
   ],
   "source": [
    "import bs4\n",
    "import requests\n",
    "\n",
    "url = 'https://www.cphbusiness.dk/'\n",
    "\n",
    "def do_it(url):\n",
    "    links_dict = {url: []}\n",
    "    r = requests.get(url)\n",
    "    # Check if status code is 200\n",
    "    r.raise_for_status\n",
    "    soup = bs4.BeautifulSoup(r.text, 'html.parser')\n",
    "\n",
    "    for link in soup.find_all('a'):\n",
    "        if link.get('href') is not None:\n",
    "            if link.get('href').startswith('https'):\n",
    "                links_dict[url].append(link.get('href'))\n",
    "    return links_dict\n",
    "\n",
    "links_dict = do_it(url)\n",
    "new_links = []\n",
    "\n",
    "for new_url in links_dict[url]:\n",
    "    new_links.append(do_it(new_url))\n",
    "\n",
    "print(\"Start page:\", links_dict)\n",
    "print(\"Pages under start page:\", new_links)"
   ]
  },
  {
   "cell_type": "markdown",
   "metadata": {},
   "source": [
    "## Exercise with findall()\n",
    "In the following text find all the family names of everyone with first name Peter:\n",
    "\n",
    "\"Peter Hansen was meeting up with Jacob Fransen for a quick lunch, but first he had to go by Peter Beier to pick up some chokolate for his wife. Meanwhile Pastor Peter Jensen was going to church to give his sermon for the same 3 people in his parish. Those were Peter Kold and Henrik Halberg plus a third person who had recently moved here from Norway called Peter Harold\"."
   ]
  },
  {
   "cell_type": "code",
   "execution_count": 43,
   "metadata": {},
   "outputs": [
    {
     "data": {
      "text/plain": [
       "['Hansen', 'Beier', 'Jensen', 'Kold', 'Harold']"
      ]
     },
     "execution_count": 43,
     "metadata": {},
     "output_type": "execute_result"
    }
   ],
   "source": [
    "import re\n",
    "\n",
    "text = \"Peter Hansen was meeting up with Jacob Fransen for a quick lunch, but first he had to go by Peter Beier to pick up some chokolate for his wife. Meanwhile Pastor Peter Jensen was going to church to give his sermon for the same 3 people in his parish. Those were Peter Kold and Henrik Halberg plus a third person who had recently moved here from Norway called Peter Harold\"\n",
    "reg = re.compile(r'(Peter) (\\w+)')\n",
    "mo = reg.findall(text)\n",
    "\n",
    "family_names_for_peter = []\n",
    "\n",
    "for fullname in mo:\n",
    "    family_names_for_peter.append(fullname[1])\n",
    "\n",
    "family_names_for_peter"
   ]
  }
 ],
 "metadata": {
  "kernelspec": {
   "display_name": "Python 3",
   "language": "python",
   "name": "python3"
  },
  "language_info": {
   "codemirror_mode": {
    "name": "ipython",
    "version": 3
   },
   "file_extension": ".py",
   "mimetype": "text/x-python",
   "name": "python",
   "nbconvert_exporter": "python",
   "pygments_lexer": "ipython3",
   "version": "3.7.6"
  }
 },
 "nbformat": 4,
 "nbformat_minor": 4
}
